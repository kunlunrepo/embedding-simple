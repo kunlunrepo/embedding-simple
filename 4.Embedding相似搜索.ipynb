{
 "cells": [
  {
   "cell_type": "code",
   "execution_count": 4,
   "id": "56c742e6-1814-4f25-874b-6e7025ab8eee",
   "metadata": {},
   "outputs": [],
   "source": [
    "import pandas as pd\n",
    "import numpy as np\n",
    "import ast # 用于解析看起来像 Python 字面量或元组、列表、字典、数字、字符串、布尔值和 None 的字符串\n",
    "from openai import OpenAI\n",
    "import os\n",
    "import dotenv"
   ]
  },
  {
   "cell_type": "markdown",
   "id": "7cdfe6ae-5e2c-4988-b97b-a1eee7ff0dca",
   "metadata": {},
   "source": [
    "# 1.读取存储向量"
   ]
  },
  {
   "cell_type": "code",
   "execution_count": 5,
   "id": "d24e0d61-4989-42d4-bf8e-0003ea9407c5",
   "metadata": {},
   "outputs": [
    {
     "name": "stdout",
     "output_type": "stream",
     "text": [
      "1536\n"
     ]
    }
   ],
   "source": [
    "# 读取评论向量化的结果集\n",
    "df = pd.read_csv('data/评论的向量画结果集.csv')\n",
    "# 把str转换成矩阵\n",
    "df['embedding_vec'] = df['embedding'].apply(ast.literal_eval)\n",
    "print(len(df['embedding_vec'][0]))"
   ]
  },
  {
   "cell_type": "markdown",
   "id": "63d50808-bf1c-4f2b-9ac8-485e946a51c6",
   "metadata": {},
   "source": [
    "# 2.计算向量距离"
   ]
  },
  {
   "cell_type": "code",
   "execution_count": 6,
   "id": "5ed2f832-c6e4-49a5-906a-c77190a369f8",
   "metadata": {},
   "outputs": [],
   "source": [
    "# 计算两个向量之间的余弦距离 (向量空间中，语义相似的词或文本，距离是靠近的)\n",
    "def cosine_distance(a, b):\n",
    "    return np.dot(a,b)/(np.linalg.norm(a) * np.linalg.norm(b))"
   ]
  },
  {
   "cell_type": "markdown",
   "id": "24a359e1-cb77-496b-8ef9-cf9c9a73a022",
   "metadata": {},
   "source": [
    "# 3.相似搜索"
   ]
  },
  {
   "cell_type": "code",
   "execution_count": 8,
   "id": "97713b61-1dbf-4f46-8fab-d9c01a0242eb",
   "metadata": {},
   "outputs": [],
   "source": [
    "# 加载环境变量\n",
    "dotenv.load_dotenv()\n",
    "# 客户端\n",
    "client = OpenAI(\n",
    "    base_url = os.getenv('OPENAI_API_BASE'),\n",
    "    api_key = os.getenv('OPENAI_API_KEY')\n",
    ")\n",
    "\n",
    "# 读取客户端响应\n",
    "def embedding_resp(text):\n",
    "    resp = client.embeddings.create(input=text, model='text-embedding-3-small')\n",
    "    return resp.data[0].embedding\n",
    "    \n",
    "# 根据指定文本去向量空间进行相似搜索\n",
    "def search_by_word(df, work_key, n_result=3, print_flag=True):\n",
    "    # 指定文本向量化\n",
    "    word_embedding = embedding_resp(work_key)\n",
    "    # 计算相似度\n",
    "    df['similarity'] = df.embedding_vec.apply(lambda x: cosine_distance(x, word_embedding))\n",
    "    # 按相似度排序并去除Title和Content\n",
    "    res = (\n",
    "        df.sort_values('similarity', ascending=False)\n",
    "        .head(n_result)\n",
    "        .combined.str.replace('Title:', \"\")\n",
    "        .str.replace('; Content:', ';')\n",
    "    )\n",
    "    # 打印\n",
    "    if print_flag:\n",
    "        for r in res:\n",
    "            print(r)\n",
    "            print()\n",
    "    return res"
   ]
  },
  {
   "cell_type": "code",
   "execution_count": 10,
   "id": "6ccb3f43-9a8b-4d1b-bd70-6d61e1c82cf3",
   "metadata": {},
   "outputs": [
    {
     "name": "stdout",
     "output_type": "stream",
     "text": [
      "Good standard English breakfast - decent brand!;This English Breakfast tea from Higgins & Burke, is good: it's basic, good tasting black tea (English Breakfast blend) and is tasty.  I wasn't blown away by the flavor, but it was good: I enjoyed the tea, it brewed up quickly in these nice tea bags (I recommend about one minute of brew time), and then added a splash of cream: it was quite nice!\n",
      "\n",
      "Mellow;This honey made from blueberry blossoms has a milder, more mellow flavor profile than a lot of other honeys. It's really good on waffles because it doesn't overwhelm the vanilla in them.\n",
      "\n",
      "Wild Honey;This really is unfiltered honey made from wildflowers, so if you have allergies expect a reaction, at least initially. If you are planning to visit Central Florida on vacation this is a good buy to prep your immune system against the local flora. The flavor is a little stronger than single cultivar honeys, so you don't need as much to flavor your food and drink with. I detect more than a hint of honeysuckle in there. It's tasty, and the price is right.\n",
      "\n",
      "搜索结束....\n"
     ]
    }
   ],
   "source": [
    "# 查询\n",
    "search_by_word(df, 'awful', 3)\n",
    "print('搜索结束....')"
   ]
  },
  {
   "cell_type": "code",
   "execution_count": null,
   "id": "b051247b-1bd7-456b-9cd1-cb3f233edfb0",
   "metadata": {},
   "outputs": [],
   "source": []
  }
 ],
 "metadata": {
  "kernelspec": {
   "display_name": "Python 3 (ipykernel)",
   "language": "python",
   "name": "python3"
  },
  "language_info": {
   "codemirror_mode": {
    "name": "ipython",
    "version": 3
   },
   "file_extension": ".py",
   "mimetype": "text/x-python",
   "name": "python",
   "nbconvert_exporter": "python",
   "pygments_lexer": "ipython3",
   "version": "3.10.14"
  }
 },
 "nbformat": 4,
 "nbformat_minor": 5
}
