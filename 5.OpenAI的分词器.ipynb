{
 "cells": [
  {
   "cell_type": "code",
   "execution_count": 13,
   "id": "d61d3240-b8a6-4173-85a2-f93ae29f6b7b",
   "metadata": {},
   "outputs": [],
   "source": [
    "import tiktoken"
   ]
  },
  {
   "cell_type": "markdown",
   "id": "08585381-08fb-4c5d-aefb-871e25a2c7e8",
   "metadata": {},
   "source": [
    "注意：分词器主要作用是将输入文本切分成模型训练时所用的词汇单元（tokens），这些tokens随后被编码为整数ID，但这一步并没有捕捉到词义、上下文依赖或语义关联"
   ]
  },
  {
   "cell_type": "code",
   "execution_count": 5,
   "id": "6d90b361-07b5-4475-8227-805155411441",
   "metadata": {},
   "outputs": [
    {
     "name": "stdout",
     "output_type": "stream",
     "text": [
      "<Encoding 'cl100k_base'>\n"
     ]
    }
   ],
   "source": [
    "# 根据模型名称获取分词器\n",
    "tokenizer = tiktoken.encoding_for_model('gpt-3.5-turbo')\n",
    "print(tokenizer)"
   ]
  },
  {
   "cell_type": "code",
   "execution_count": 6,
   "id": "c1e96d08-5ace-4288-a3f7-88a46ae7b5a3",
   "metadata": {},
   "outputs": [
    {
     "name": "stdout",
     "output_type": "stream",
     "text": [
      "<Encoding 'cl100k_base'>\n"
     ]
    }
   ],
   "source": [
    "# 根据分词器编码名称得到分词器\n",
    "tokenizer2 = tiktoken.get_encoding('cl100k_base')\n",
    "print(tokenizer2)"
   ]
  },
  {
   "cell_type": "code",
   "execution_count": 12,
   "id": "e539e99e-56c4-4cf9-bf07-b7f0d024e2e7",
   "metadata": {},
   "outputs": [
    {
     "name": "stdout",
     "output_type": "stream",
     "text": [
      "[23078, 374, 2294]\n",
      "<class 'list'>\n"
     ]
    }
   ],
   "source": [
    "# 分词得向量\n",
    "res1 = tokenizer.encode('China is great')\n",
    "print(res1)\n",
    "print(type(res1))"
   ]
  },
  {
   "cell_type": "code",
   "execution_count": 9,
   "id": "276e3ba5-5994-4a15-9591-07e05a0195a5",
   "metadata": {},
   "outputs": [
    {
     "data": {
      "text/plain": [
       "[83, 1609, 5963, 374, 2294]"
      ]
     },
     "execution_count": 9,
     "metadata": {},
     "output_type": "execute_result"
    }
   ],
   "source": [
    "res2 = tokenizer.encode('tiktoken is great')\n",
    "res2"
   ]
  },
  {
   "cell_type": "code",
   "execution_count": 10,
   "id": "c6ce4b57-545b-4911-bc45-3be678289e90",
   "metadata": {},
   "outputs": [
    {
     "data": {
      "text/plain": [
       "[44388,\n",
       " 87502,\n",
       " 54872,\n",
       " 25287,\n",
       " 33035,\n",
       " 40053,\n",
       " 11883,\n",
       " 35304,\n",
       " 37026,\n",
       " 28833,\n",
       " 99046,\n",
       " 246,\n",
       " 31634,\n",
       " 5486,\n",
       " 83125,\n",
       " 6701,\n",
       " 249,\n",
       " 19967,\n",
       " 5486,\n",
       " 47200,\n",
       " 45059,\n",
       " 50667,\n",
       " 89902,\n",
       " 3922]"
      ]
     },
     "execution_count": 10,
     "metadata": {},
     "output_type": "execute_result"
    }
   ],
   "source": [
    "res3 = tokenizer.encode('这种模型通常用于自动摘要、文章创作、代码生成等任务，')\n",
    "res3"
   ]
  },
  {
   "cell_type": "code",
   "execution_count": 11,
   "id": "6adaae55-4a93-4064-ac05-c7e7322bdd49",
   "metadata": {},
   "outputs": [
    {
     "name": "stdout",
     "output_type": "stream",
     "text": [
      "tiktoken is great\n"
     ]
    }
   ],
   "source": [
    "# 根据向量，还原文本\n",
    "print(tokenizer.decode(res2))"
   ]
  },
  {
   "cell_type": "code",
   "execution_count": null,
   "id": "c2d63637-70c9-4a1e-90e5-3b2a455b57e4",
   "metadata": {},
   "outputs": [],
   "source": []
  }
 ],
 "metadata": {
  "kernelspec": {
   "display_name": "Python 3 (ipykernel)",
   "language": "python",
   "name": "python3"
  },
  "language_info": {
   "codemirror_mode": {
    "name": "ipython",
    "version": 3
   },
   "file_extension": ".py",
   "mimetype": "text/x-python",
   "name": "python",
   "nbconvert_exporter": "python",
   "pygments_lexer": "ipython3",
   "version": "3.10.14"
  }
 },
 "nbformat": 4,
 "nbformat_minor": 5
}
